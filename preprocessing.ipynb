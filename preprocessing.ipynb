{
 "cells": [
  {
   "cell_type": "code",
   "execution_count": 211,
   "id": "208142ff13bc7a44",
   "metadata": {
    "collapsed": false,
    "ExecuteTime": {
     "end_time": "2024-04-04T20:37:25.634990Z",
     "start_time": "2024-04-04T20:37:25.626861Z"
    }
   },
   "outputs": [],
   "source": [
    "import json\n",
    "import os\n",
    "\n",
    "import pandas as pd"
   ]
  },
  {
   "cell_type": "code",
   "execution_count": 212,
   "id": "50ddc5172ed1452e",
   "metadata": {
    "collapsed": false,
    "ExecuteTime": {
     "end_time": "2024-04-04T20:37:25.649300Z",
     "start_time": "2024-04-04T20:37:25.640747Z"
    }
   },
   "outputs": [],
   "source": [
    "filenames = os.listdir('./data')"
   ]
  },
  {
   "cell_type": "code",
   "execution_count": 213,
   "id": "9a40599b9740888",
   "metadata": {
    "collapsed": false,
    "ExecuteTime": {
     "end_time": "2024-04-04T20:37:28.241761Z",
     "start_time": "2024-04-04T20:37:25.674203Z"
    }
   },
   "outputs": [],
   "source": [
    "data = []\n",
    "\n",
    "path = './data/'\n",
    "for filename in filenames:\n",
    "    with open(f'{path}{filename}') as f:\n",
    "        data.append(json.load(f))\n"
   ]
  },
  {
   "cell_type": "code",
   "execution_count": 214,
   "id": "ed67f688613d1de8",
   "metadata": {
    "collapsed": false,
    "ExecuteTime": {
     "end_time": "2024-04-04T20:37:28.246967Z",
     "start_time": "2024-04-04T20:37:28.242764Z"
    }
   },
   "outputs": [
    {
     "name": "stdout",
     "output_type": "stream",
     "text": [
      "1199\n"
     ]
    }
   ],
   "source": [
    "print(len(data))"
   ]
  },
  {
   "cell_type": "code",
   "execution_count": 215,
   "id": "28badbea2c8bc2fb",
   "metadata": {
    "collapsed": false,
    "ExecuteTime": {
     "end_time": "2024-04-04T20:37:28.253306Z",
     "start_time": "2024-04-04T20:37:28.248533Z"
    }
   },
   "outputs": [],
   "source": [
    "header = ['augments', 'companion', 'gold_left', 'last_round', 'level', 'missions', 'placement', 'players_eliminated', 'puuid', 'time_eliminated', 'total_damage_to_players', 'traits', 'units']"
   ]
  },
  {
   "cell_type": "code",
   "execution_count": 216,
   "id": "416c0b134c0a0d01",
   "metadata": {
    "collapsed": false,
    "ExecuteTime": {
     "end_time": "2024-04-04T20:37:28.263156Z",
     "start_time": "2024-04-04T20:37:28.255307Z"
    }
   },
   "outputs": [],
   "source": [
    "def add_data(statistic):\n",
    "    temp = []\n",
    "    for j in range(len(statistic)):\n",
    "        if i < len(statistic[j]):\n",
    "            temp.append(statistic[j][i])\n",
    "        else:\n",
    "            temp.append(None)\n",
    "    return temp\n",
    "\n",
    "def compression(stat,key, i, statistic: dict, columns):\n",
    "    for column in columns:\n",
    "        temp = []\n",
    "        for j in range(len(statistic)):\n",
    "            if statistic[j]:\n",
    "                temp.append(statistic[j][column])\n",
    "            else:\n",
    "                temp.append(None)\n",
    "        stat[f'{key}_{i + 1}_{column}'] = temp\n",
    "    "
   ]
  },
  {
   "cell_type": "code",
   "execution_count": 217,
   "id": "238716e9bb3f3a68",
   "metadata": {
    "collapsed": false,
    "ExecuteTime": {
     "end_time": "2024-04-04T20:37:28.847169Z",
     "start_time": "2024-04-04T20:37:28.265160Z"
    }
   },
   "outputs": [],
   "source": [
    "stat = {}\n",
    "check = True\n",
    "for key in header:\n",
    "    statistics = []\n",
    "    for x in data:\n",
    "        for i in range(len(x['participants'])):\n",
    "            statistics.append(x['participants'][i][key])\n",
    "            \n",
    "    if key == 'augments':\n",
    "        for i in range(3):\n",
    "            stat['augments_' + str(i + 1)] = add_data(statistics)\n",
    "    elif key == 'units': \n",
    "        for i in range(10):\n",
    "            addition_data = add_data(statistics)\n",
    "            columns = ['character_id', 'itemNames', 'tier']\n",
    "            for column in columns:\n",
    "                temp = []\n",
    "                for j in range(len(addition_data)):\n",
    "                    if addition_data[j]:\n",
    "                        temp.append(addition_data[j][column])\n",
    "                    else:\n",
    "                        temp.append(None)\n",
    "                if column == 'itemNames':\n",
    "                    foo = []\n",
    "                    for j in range(3):\n",
    "                        for k in range(len(temp)):\n",
    "                            if temp[k] and len(temp[k]) > j:\n",
    "                                foo.append(temp[k][j])\n",
    "                            else:\n",
    "                                foo.append(None)\n",
    "                    stat[f'{key}_{i + 1}_item_{1}'] = foo[:9592]\n",
    "                    stat[f'{key}_{i + 1}_item_{2}'] = foo[9592:9592 * 2]\n",
    "                    stat[f'{key}_{i + 1}_item_{3}'] = foo[9592 * 2: 9592 * 3]\n",
    "                else:\n",
    "                    stat[f'{key}_{i + 1}_{column}'] = temp\n",
    "            \n",
    "    elif key == 'traits':\n",
    "        for i in range(16):\n",
    "            addition_data = add_data(statistics)\n",
    "            columns = ['name', 'num_units', 'style', 'tier'\n",
    "                                                     '_current', 'tier_total']\n",
    "            compression(stat, key, i, addition_data, columns)\n",
    "    elif key == 'companion' or key == 'missions':\n",
    "        continue        \n",
    "    else:\n",
    "        stat[key] = statistics\n",
    "        "
   ]
  },
  {
   "cell_type": "code",
   "execution_count": 218,
   "id": "3fdf8bcd",
   "metadata": {
    "ExecuteTime": {
     "end_time": "2024-04-04T20:37:29.039928Z",
     "start_time": "2024-04-04T20:37:28.848684Z"
    }
   },
   "outputs": [
    {
     "data": {
      "text/plain": "                          augments_1                       augments_2  \\\n0     TFT11_Augment_StoryweaverCrest  TFT9_Augment_StationarySupport3   \n1            TFT11_Augment_Trickshot    TFT11_Augment_TrashToTreasure   \n2              TFT9_Augment_Idealism         TFT6_Augment_GachaAddict   \n3          TFT9_Augment_YouHaveMyBow         TFT11_Augment_Accomplice   \n4         TFT9_Augment_Sleightofhand  TFT9_Augment_StationarySupport3   \n...                              ...                              ...   \n9587       TFT9_Augment_OneTwosThree    TFT11_Augment_RainingGoldPlus   \n9588       TFT11_Augment_FineVintage   TFT6_Augment_PortableForgePlus   \n9589     TFT11_Augment_GoldenRemover        TFT9_Augment_YouHaveMyBow   \n9590            TFT9_Augment_RedBuff        TFT9_Augment_CombatCaster   \n9591        TFT9_Augment_SilverSpoon       TFT11_Augment_DuelistCrest   \n\n                                 augments_3  gold_left  last_round  level  \\\n0                   TFT6_Augment_OneTwoFive         50          26      8   \n1     TFT9_Augment_Commander_RollingForDays         18          32      9   \n2                      TFT9_Augment_RedBuff          2          29      8   \n3                   TFT9_Augment_Harmacist1         28          26      7   \n4              TFT9_Augment_CyberneticBulk1         26          36     10   \n...                                     ...        ...         ...    ...   \n9587              TFT9_Augment_SupportCache          0          32      9   \n9588            TFT11_Augment_HeavenlyCrest          2          39     10   \n9589                TFT9_Augment_BigGrabBag          0          35      8   \n9590              TFT11_Augment_ReaperCrest          4          39      9   \n9591             TFT10_Augment_HeavyHitters          0          28      8   \n\n      placement  players_eliminated  \\\n0             7                   0   \n1             4                   1   \n2             6                   0   \n3             8                   0   \n4             1                   3   \n...         ...                 ...   \n9587          5                   0   \n9588          1                   4   \n9589          3                   1   \n9590          2                   2   \n9591          7                   0   \n\n                                                  puuid  time_eliminated  ...  \\\n0     V4CYQ37ANOdyBmU8dxoT4HsPWHkOSY2oaijwrr6Ijj7Aoe...      1497.846924  ...   \n1     4RHYO23SWrm7h35kCmesJOqErQ8Gh0uoUuUYKvqrJIxoXe...      1797.070679  ...   \n2     orvNdZ6YNzS5oHAvPlKFGzp0j5-z-xQg4pT0uFA4bb7eWc...      1641.772217  ...   \n3     RgqCZQcvEAIq0VhCVwyrek4aDuait82v8P9c6mHDjvQ5pE...      1491.497314  ...   \n4     uQg8ITKGu-ywgNI3pzWjqTLFFGyRHE0aHwtKAsixZTkACn...      2030.181641  ...   \n...                                                 ...              ...  ...   \n9587  eXizI0Oiu_tJFE4-cWEGMWG86fSdeJVuwG76Xbtz3ic1dT...      1890.752441  ...   \n9588  uFizAin8L6uqX2bO1w_HYnfR-Er1SH5wlhGkRpRJUB9ifM...      2242.950195  ...   \n9589  bceywPyd_biQOUqBQDxJtzChx4hcghRTArzyeGABLriOgt...      2039.903442  ...   \n9590  3yGn6ww9Fd-3xfYgNyVnZNb1Uz800eziYg8DlzKDoFN4zj...      2241.649170  ...   \n9591  2E3PdHqZNxYgxvGZDyxnlzzddoLJeuMS4hBZ-xT6HviRKJ...      1648.456787  ...   \n\n      units_9_character_id               units_9_item_1  \\\n0              TFT11_Kayle        TFT11_Storyweaver5_AS   \n1              TFT11_Xayah                         None   \n2                     None                         None   \n3                     None                         None   \n4               TFT11_Udyr             TFT_Item_RedBuff   \n...                    ...                          ...   \n9587          TFT11_WuKong  TFT_Item_UnstableConcoction   \n9588           TFT11_Rakan          TFT_Item_IonicSpark   \n9589                  None                         None   \n9590          TFT11_WuKong        TFT_Item_ThiefsGloves   \n9591                  None                         None   \n\n                    units_9_item_2                 units_9_item_3  \\\n0       TFT11_Storyweaver3_Support                           None   \n1                             None                           None   \n2                             None                           None   \n3                             None                           None   \n4                             None                           None   \n...                            ...                            ...   \n9587        TFT_Item_TitansResolve       TFT_Item_HextechGunblade   \n9588  TFT5_Item_ZzRotPortalRadiant  TFT11_Item_HeavenlyEmblemItem   \n9589                          None                           None   \n9590          TFT_Item_DragonsClaw       TFT_Item_HextechGunblade   \n9591                          None                           None   \n\n      units_9_tier  units_10_character_id      units_10_item_1  \\\n0              2.0                   None                 None   \n1              2.0             TFT11_Bard                 None   \n2              NaN                   None                 None   \n3              NaN                   None                 None   \n4              2.0           TFT11_WuKong                 None   \n...            ...                    ...                  ...   \n9587           2.0                   None                 None   \n9588           2.0           TFT11_WuKong  TFT_Item_Redemption   \n9589           NaN                   None                 None   \n9590           1.0                   None                 None   \n9591           NaN                   None                 None   \n\n                units_10_item_2         units_10_item_3  units_10_tier  \n0                          None                    None            NaN  \n1                          None                    None            2.0  \n2                          None                    None            NaN  \n3                          None                    None            NaN  \n4                          None                    None            2.0  \n...                         ...                     ...            ...  \n9587                       None                    None            NaN  \n9588  TFT_Item_AegisOfTheLegion  TFT_Item_Bloodthirster            1.0  \n9589                       None                    None            NaN  \n9590                       None                    None            NaN  \n9591                       None                    None            NaN  \n\n[9592 rows x 141 columns]",
      "text/html": "<div>\n<style scoped>\n    .dataframe tbody tr th:only-of-type {\n        vertical-align: middle;\n    }\n\n    .dataframe tbody tr th {\n        vertical-align: top;\n    }\n\n    .dataframe thead th {\n        text-align: right;\n    }\n</style>\n<table border=\"1\" class=\"dataframe\">\n  <thead>\n    <tr style=\"text-align: right;\">\n      <th></th>\n      <th>augments_1</th>\n      <th>augments_2</th>\n      <th>augments_3</th>\n      <th>gold_left</th>\n      <th>last_round</th>\n      <th>level</th>\n      <th>placement</th>\n      <th>players_eliminated</th>\n      <th>puuid</th>\n      <th>time_eliminated</th>\n      <th>...</th>\n      <th>units_9_character_id</th>\n      <th>units_9_item_1</th>\n      <th>units_9_item_2</th>\n      <th>units_9_item_3</th>\n      <th>units_9_tier</th>\n      <th>units_10_character_id</th>\n      <th>units_10_item_1</th>\n      <th>units_10_item_2</th>\n      <th>units_10_item_3</th>\n      <th>units_10_tier</th>\n    </tr>\n  </thead>\n  <tbody>\n    <tr>\n      <th>0</th>\n      <td>TFT11_Augment_StoryweaverCrest</td>\n      <td>TFT9_Augment_StationarySupport3</td>\n      <td>TFT6_Augment_OneTwoFive</td>\n      <td>50</td>\n      <td>26</td>\n      <td>8</td>\n      <td>7</td>\n      <td>0</td>\n      <td>V4CYQ37ANOdyBmU8dxoT4HsPWHkOSY2oaijwrr6Ijj7Aoe...</td>\n      <td>1497.846924</td>\n      <td>...</td>\n      <td>TFT11_Kayle</td>\n      <td>TFT11_Storyweaver5_AS</td>\n      <td>TFT11_Storyweaver3_Support</td>\n      <td>None</td>\n      <td>2.0</td>\n      <td>None</td>\n      <td>None</td>\n      <td>None</td>\n      <td>None</td>\n      <td>NaN</td>\n    </tr>\n    <tr>\n      <th>1</th>\n      <td>TFT11_Augment_Trickshot</td>\n      <td>TFT11_Augment_TrashToTreasure</td>\n      <td>TFT9_Augment_Commander_RollingForDays</td>\n      <td>18</td>\n      <td>32</td>\n      <td>9</td>\n      <td>4</td>\n      <td>1</td>\n      <td>4RHYO23SWrm7h35kCmesJOqErQ8Gh0uoUuUYKvqrJIxoXe...</td>\n      <td>1797.070679</td>\n      <td>...</td>\n      <td>TFT11_Xayah</td>\n      <td>None</td>\n      <td>None</td>\n      <td>None</td>\n      <td>2.0</td>\n      <td>TFT11_Bard</td>\n      <td>None</td>\n      <td>None</td>\n      <td>None</td>\n      <td>2.0</td>\n    </tr>\n    <tr>\n      <th>2</th>\n      <td>TFT9_Augment_Idealism</td>\n      <td>TFT6_Augment_GachaAddict</td>\n      <td>TFT9_Augment_RedBuff</td>\n      <td>2</td>\n      <td>29</td>\n      <td>8</td>\n      <td>6</td>\n      <td>0</td>\n      <td>orvNdZ6YNzS5oHAvPlKFGzp0j5-z-xQg4pT0uFA4bb7eWc...</td>\n      <td>1641.772217</td>\n      <td>...</td>\n      <td>None</td>\n      <td>None</td>\n      <td>None</td>\n      <td>None</td>\n      <td>NaN</td>\n      <td>None</td>\n      <td>None</td>\n      <td>None</td>\n      <td>None</td>\n      <td>NaN</td>\n    </tr>\n    <tr>\n      <th>3</th>\n      <td>TFT9_Augment_YouHaveMyBow</td>\n      <td>TFT11_Augment_Accomplice</td>\n      <td>TFT9_Augment_Harmacist1</td>\n      <td>28</td>\n      <td>26</td>\n      <td>7</td>\n      <td>8</td>\n      <td>0</td>\n      <td>RgqCZQcvEAIq0VhCVwyrek4aDuait82v8P9c6mHDjvQ5pE...</td>\n      <td>1491.497314</td>\n      <td>...</td>\n      <td>None</td>\n      <td>None</td>\n      <td>None</td>\n      <td>None</td>\n      <td>NaN</td>\n      <td>None</td>\n      <td>None</td>\n      <td>None</td>\n      <td>None</td>\n      <td>NaN</td>\n    </tr>\n    <tr>\n      <th>4</th>\n      <td>TFT9_Augment_Sleightofhand</td>\n      <td>TFT9_Augment_StationarySupport3</td>\n      <td>TFT9_Augment_CyberneticBulk1</td>\n      <td>26</td>\n      <td>36</td>\n      <td>10</td>\n      <td>1</td>\n      <td>3</td>\n      <td>uQg8ITKGu-ywgNI3pzWjqTLFFGyRHE0aHwtKAsixZTkACn...</td>\n      <td>2030.181641</td>\n      <td>...</td>\n      <td>TFT11_Udyr</td>\n      <td>TFT_Item_RedBuff</td>\n      <td>None</td>\n      <td>None</td>\n      <td>2.0</td>\n      <td>TFT11_WuKong</td>\n      <td>None</td>\n      <td>None</td>\n      <td>None</td>\n      <td>2.0</td>\n    </tr>\n    <tr>\n      <th>...</th>\n      <td>...</td>\n      <td>...</td>\n      <td>...</td>\n      <td>...</td>\n      <td>...</td>\n      <td>...</td>\n      <td>...</td>\n      <td>...</td>\n      <td>...</td>\n      <td>...</td>\n      <td>...</td>\n      <td>...</td>\n      <td>...</td>\n      <td>...</td>\n      <td>...</td>\n      <td>...</td>\n      <td>...</td>\n      <td>...</td>\n      <td>...</td>\n      <td>...</td>\n      <td>...</td>\n    </tr>\n    <tr>\n      <th>9587</th>\n      <td>TFT9_Augment_OneTwosThree</td>\n      <td>TFT11_Augment_RainingGoldPlus</td>\n      <td>TFT9_Augment_SupportCache</td>\n      <td>0</td>\n      <td>32</td>\n      <td>9</td>\n      <td>5</td>\n      <td>0</td>\n      <td>eXizI0Oiu_tJFE4-cWEGMWG86fSdeJVuwG76Xbtz3ic1dT...</td>\n      <td>1890.752441</td>\n      <td>...</td>\n      <td>TFT11_WuKong</td>\n      <td>TFT_Item_UnstableConcoction</td>\n      <td>TFT_Item_TitansResolve</td>\n      <td>TFT_Item_HextechGunblade</td>\n      <td>2.0</td>\n      <td>None</td>\n      <td>None</td>\n      <td>None</td>\n      <td>None</td>\n      <td>NaN</td>\n    </tr>\n    <tr>\n      <th>9588</th>\n      <td>TFT11_Augment_FineVintage</td>\n      <td>TFT6_Augment_PortableForgePlus</td>\n      <td>TFT11_Augment_HeavenlyCrest</td>\n      <td>2</td>\n      <td>39</td>\n      <td>10</td>\n      <td>1</td>\n      <td>4</td>\n      <td>uFizAin8L6uqX2bO1w_HYnfR-Er1SH5wlhGkRpRJUB9ifM...</td>\n      <td>2242.950195</td>\n      <td>...</td>\n      <td>TFT11_Rakan</td>\n      <td>TFT_Item_IonicSpark</td>\n      <td>TFT5_Item_ZzRotPortalRadiant</td>\n      <td>TFT11_Item_HeavenlyEmblemItem</td>\n      <td>2.0</td>\n      <td>TFT11_WuKong</td>\n      <td>TFT_Item_Redemption</td>\n      <td>TFT_Item_AegisOfTheLegion</td>\n      <td>TFT_Item_Bloodthirster</td>\n      <td>1.0</td>\n    </tr>\n    <tr>\n      <th>9589</th>\n      <td>TFT11_Augment_GoldenRemover</td>\n      <td>TFT9_Augment_YouHaveMyBow</td>\n      <td>TFT9_Augment_BigGrabBag</td>\n      <td>0</td>\n      <td>35</td>\n      <td>8</td>\n      <td>3</td>\n      <td>1</td>\n      <td>bceywPyd_biQOUqBQDxJtzChx4hcghRTArzyeGABLriOgt...</td>\n      <td>2039.903442</td>\n      <td>...</td>\n      <td>None</td>\n      <td>None</td>\n      <td>None</td>\n      <td>None</td>\n      <td>NaN</td>\n      <td>None</td>\n      <td>None</td>\n      <td>None</td>\n      <td>None</td>\n      <td>NaN</td>\n    </tr>\n    <tr>\n      <th>9590</th>\n      <td>TFT9_Augment_RedBuff</td>\n      <td>TFT9_Augment_CombatCaster</td>\n      <td>TFT11_Augment_ReaperCrest</td>\n      <td>4</td>\n      <td>39</td>\n      <td>9</td>\n      <td>2</td>\n      <td>2</td>\n      <td>3yGn6ww9Fd-3xfYgNyVnZNb1Uz800eziYg8DlzKDoFN4zj...</td>\n      <td>2241.649170</td>\n      <td>...</td>\n      <td>TFT11_WuKong</td>\n      <td>TFT_Item_ThiefsGloves</td>\n      <td>TFT_Item_DragonsClaw</td>\n      <td>TFT_Item_HextechGunblade</td>\n      <td>1.0</td>\n      <td>None</td>\n      <td>None</td>\n      <td>None</td>\n      <td>None</td>\n      <td>NaN</td>\n    </tr>\n    <tr>\n      <th>9591</th>\n      <td>TFT9_Augment_SilverSpoon</td>\n      <td>TFT11_Augment_DuelistCrest</td>\n      <td>TFT10_Augment_HeavyHitters</td>\n      <td>0</td>\n      <td>28</td>\n      <td>8</td>\n      <td>7</td>\n      <td>0</td>\n      <td>2E3PdHqZNxYgxvGZDyxnlzzddoLJeuMS4hBZ-xT6HviRKJ...</td>\n      <td>1648.456787</td>\n      <td>...</td>\n      <td>None</td>\n      <td>None</td>\n      <td>None</td>\n      <td>None</td>\n      <td>NaN</td>\n      <td>None</td>\n      <td>None</td>\n      <td>None</td>\n      <td>None</td>\n      <td>NaN</td>\n    </tr>\n  </tbody>\n</table>\n<p>9592 rows × 141 columns</p>\n</div>"
     },
     "execution_count": 218,
     "metadata": {},
     "output_type": "execute_result"
    }
   ],
   "source": [
    "df = pd.DataFrame(stat)\n",
    "df"
   ]
  },
  {
   "cell_type": "code",
   "outputs": [
    {
     "data": {
      "text/plain": "         gold_left   last_round        level    placement  players_eliminated  \\\ncount  9592.000000  9592.000000  9592.000000  9592.000000         9592.000000   \nmean      7.097164    32.489783     8.510738     4.500000            0.778565   \nstd      13.735665     4.745543     0.863110     2.291407            1.083313   \nmin       0.000000     2.000000     1.000000     1.000000            0.000000   \n25%       0.000000    29.000000     8.000000     2.750000            0.000000   \n50%       1.000000    33.000000     9.000000     4.500000            0.000000   \n75%       6.000000    36.000000     9.000000     6.250000            1.000000   \nmax     187.000000    45.000000    10.000000     8.000000            6.000000   \n\n       time_eliminated  total_damage_to_players  traits_1_num_units  \\\ncount      9592.000000              9592.000000         9576.000000   \nmean       1906.712258               101.430671            1.794799   \nstd         277.128368                49.044474            0.866660   \nmin          39.657867                 0.000000            1.000000   \n25%        1713.313446                65.000000            1.000000   \n50%        1928.777222                96.000000            2.000000   \n75%        2101.466492               134.000000            2.000000   \nmax        2629.765381               290.000000            8.000000   \n\n       traits_1_style  traits_1_tier_current  ...  units_1_tier  units_2_tier  \\\ncount     9576.000000            9576.000000  ...   9581.000000   9578.000000   \nmean         0.807957               0.746972  ...      1.856904      1.917206   \nstd          0.894534               0.727520  ...      0.504760      0.518363   \nmin          0.000000               0.000000  ...      1.000000      1.000000   \n25%          0.000000               0.000000  ...      2.000000      2.000000   \n50%          1.000000               1.000000  ...      2.000000      2.000000   \n75%          1.000000               1.000000  ...      2.000000      2.000000   \nmax          5.000000               4.000000  ...      3.000000      3.000000   \n\n       units_3_tier  units_4_tier  units_5_tier  units_6_tier  units_7_tier  \\\ncount   9572.000000   9560.000000   9551.000000   9532.000000   9467.000000   \nmean       1.989344      2.091632      1.979793      1.845153      1.720186   \nstd        0.548258      0.605769      0.567819      0.549840      0.570766   \nmin        1.000000      1.000000      1.000000      1.000000      1.000000   \n25%        2.000000      2.000000      2.000000      2.000000      1.000000   \n50%        2.000000      2.000000      2.000000      2.000000      2.000000   \n75%        2.000000      2.000000      2.000000      2.000000      2.000000   \nmax        3.000000      3.000000      3.000000      3.000000      3.000000   \n\n       units_8_tier  units_9_tier  units_10_tier  \ncount   8795.000000   6111.000000    2286.000000  \nmean       1.495054      1.454754       1.587052  \nstd        0.527667      0.524247       0.677935  \nmin        1.000000      1.000000       1.000000  \n25%        1.000000      1.000000       1.000000  \n50%        1.000000      1.000000       1.000000  \n75%        2.000000      2.000000       2.000000  \nmax        3.000000      3.000000       4.000000  \n\n[8 rows x 81 columns]",
      "text/html": "<div>\n<style scoped>\n    .dataframe tbody tr th:only-of-type {\n        vertical-align: middle;\n    }\n\n    .dataframe tbody tr th {\n        vertical-align: top;\n    }\n\n    .dataframe thead th {\n        text-align: right;\n    }\n</style>\n<table border=\"1\" class=\"dataframe\">\n  <thead>\n    <tr style=\"text-align: right;\">\n      <th></th>\n      <th>gold_left</th>\n      <th>last_round</th>\n      <th>level</th>\n      <th>placement</th>\n      <th>players_eliminated</th>\n      <th>time_eliminated</th>\n      <th>total_damage_to_players</th>\n      <th>traits_1_num_units</th>\n      <th>traits_1_style</th>\n      <th>traits_1_tier_current</th>\n      <th>...</th>\n      <th>units_1_tier</th>\n      <th>units_2_tier</th>\n      <th>units_3_tier</th>\n      <th>units_4_tier</th>\n      <th>units_5_tier</th>\n      <th>units_6_tier</th>\n      <th>units_7_tier</th>\n      <th>units_8_tier</th>\n      <th>units_9_tier</th>\n      <th>units_10_tier</th>\n    </tr>\n  </thead>\n  <tbody>\n    <tr>\n      <th>count</th>\n      <td>9592.000000</td>\n      <td>9592.000000</td>\n      <td>9592.000000</td>\n      <td>9592.000000</td>\n      <td>9592.000000</td>\n      <td>9592.000000</td>\n      <td>9592.000000</td>\n      <td>9576.000000</td>\n      <td>9576.000000</td>\n      <td>9576.000000</td>\n      <td>...</td>\n      <td>9581.000000</td>\n      <td>9578.000000</td>\n      <td>9572.000000</td>\n      <td>9560.000000</td>\n      <td>9551.000000</td>\n      <td>9532.000000</td>\n      <td>9467.000000</td>\n      <td>8795.000000</td>\n      <td>6111.000000</td>\n      <td>2286.000000</td>\n    </tr>\n    <tr>\n      <th>mean</th>\n      <td>7.097164</td>\n      <td>32.489783</td>\n      <td>8.510738</td>\n      <td>4.500000</td>\n      <td>0.778565</td>\n      <td>1906.712258</td>\n      <td>101.430671</td>\n      <td>1.794799</td>\n      <td>0.807957</td>\n      <td>0.746972</td>\n      <td>...</td>\n      <td>1.856904</td>\n      <td>1.917206</td>\n      <td>1.989344</td>\n      <td>2.091632</td>\n      <td>1.979793</td>\n      <td>1.845153</td>\n      <td>1.720186</td>\n      <td>1.495054</td>\n      <td>1.454754</td>\n      <td>1.587052</td>\n    </tr>\n    <tr>\n      <th>std</th>\n      <td>13.735665</td>\n      <td>4.745543</td>\n      <td>0.863110</td>\n      <td>2.291407</td>\n      <td>1.083313</td>\n      <td>277.128368</td>\n      <td>49.044474</td>\n      <td>0.866660</td>\n      <td>0.894534</td>\n      <td>0.727520</td>\n      <td>...</td>\n      <td>0.504760</td>\n      <td>0.518363</td>\n      <td>0.548258</td>\n      <td>0.605769</td>\n      <td>0.567819</td>\n      <td>0.549840</td>\n      <td>0.570766</td>\n      <td>0.527667</td>\n      <td>0.524247</td>\n      <td>0.677935</td>\n    </tr>\n    <tr>\n      <th>min</th>\n      <td>0.000000</td>\n      <td>2.000000</td>\n      <td>1.000000</td>\n      <td>1.000000</td>\n      <td>0.000000</td>\n      <td>39.657867</td>\n      <td>0.000000</td>\n      <td>1.000000</td>\n      <td>0.000000</td>\n      <td>0.000000</td>\n      <td>...</td>\n      <td>1.000000</td>\n      <td>1.000000</td>\n      <td>1.000000</td>\n      <td>1.000000</td>\n      <td>1.000000</td>\n      <td>1.000000</td>\n      <td>1.000000</td>\n      <td>1.000000</td>\n      <td>1.000000</td>\n      <td>1.000000</td>\n    </tr>\n    <tr>\n      <th>25%</th>\n      <td>0.000000</td>\n      <td>29.000000</td>\n      <td>8.000000</td>\n      <td>2.750000</td>\n      <td>0.000000</td>\n      <td>1713.313446</td>\n      <td>65.000000</td>\n      <td>1.000000</td>\n      <td>0.000000</td>\n      <td>0.000000</td>\n      <td>...</td>\n      <td>2.000000</td>\n      <td>2.000000</td>\n      <td>2.000000</td>\n      <td>2.000000</td>\n      <td>2.000000</td>\n      <td>2.000000</td>\n      <td>1.000000</td>\n      <td>1.000000</td>\n      <td>1.000000</td>\n      <td>1.000000</td>\n    </tr>\n    <tr>\n      <th>50%</th>\n      <td>1.000000</td>\n      <td>33.000000</td>\n      <td>9.000000</td>\n      <td>4.500000</td>\n      <td>0.000000</td>\n      <td>1928.777222</td>\n      <td>96.000000</td>\n      <td>2.000000</td>\n      <td>1.000000</td>\n      <td>1.000000</td>\n      <td>...</td>\n      <td>2.000000</td>\n      <td>2.000000</td>\n      <td>2.000000</td>\n      <td>2.000000</td>\n      <td>2.000000</td>\n      <td>2.000000</td>\n      <td>2.000000</td>\n      <td>1.000000</td>\n      <td>1.000000</td>\n      <td>1.000000</td>\n    </tr>\n    <tr>\n      <th>75%</th>\n      <td>6.000000</td>\n      <td>36.000000</td>\n      <td>9.000000</td>\n      <td>6.250000</td>\n      <td>1.000000</td>\n      <td>2101.466492</td>\n      <td>134.000000</td>\n      <td>2.000000</td>\n      <td>1.000000</td>\n      <td>1.000000</td>\n      <td>...</td>\n      <td>2.000000</td>\n      <td>2.000000</td>\n      <td>2.000000</td>\n      <td>2.000000</td>\n      <td>2.000000</td>\n      <td>2.000000</td>\n      <td>2.000000</td>\n      <td>2.000000</td>\n      <td>2.000000</td>\n      <td>2.000000</td>\n    </tr>\n    <tr>\n      <th>max</th>\n      <td>187.000000</td>\n      <td>45.000000</td>\n      <td>10.000000</td>\n      <td>8.000000</td>\n      <td>6.000000</td>\n      <td>2629.765381</td>\n      <td>290.000000</td>\n      <td>8.000000</td>\n      <td>5.000000</td>\n      <td>4.000000</td>\n      <td>...</td>\n      <td>3.000000</td>\n      <td>3.000000</td>\n      <td>3.000000</td>\n      <td>3.000000</td>\n      <td>3.000000</td>\n      <td>3.000000</td>\n      <td>3.000000</td>\n      <td>3.000000</td>\n      <td>3.000000</td>\n      <td>4.000000</td>\n    </tr>\n  </tbody>\n</table>\n<p>8 rows × 81 columns</p>\n</div>"
     },
     "execution_count": 219,
     "metadata": {},
     "output_type": "execute_result"
    }
   ],
   "source": [
    "df.describe()"
   ],
   "metadata": {
    "collapsed": false,
    "ExecuteTime": {
     "end_time": "2024-04-04T20:37:29.284546Z",
     "start_time": "2024-04-04T20:37:29.040934Z"
    }
   },
   "id": "b8a885c8545c17ac",
   "execution_count": 219
  },
  {
   "cell_type": "code",
   "execution_count": 220,
   "id": "f05b9715d5591322",
   "metadata": {
    "collapsed": false,
    "ExecuteTime": {
     "end_time": "2024-04-04T20:37:29.294908Z",
     "start_time": "2024-04-04T20:37:29.287398Z"
    }
   },
   "outputs": [
    {
     "data": {
      "text/plain": "Index(['augments_1', 'augments_2', 'augments_3', 'gold_left', 'last_round',\n       'level', 'placement', 'players_eliminated', 'puuid', 'time_eliminated',\n       ...\n       'units_9_character_id', 'units_9_item_1', 'units_9_item_2',\n       'units_9_item_3', 'units_9_tier', 'units_10_character_id',\n       'units_10_item_1', 'units_10_item_2', 'units_10_item_3',\n       'units_10_tier'],\n      dtype='object', length=141)"
     },
     "execution_count": 220,
     "metadata": {},
     "output_type": "execute_result"
    }
   ],
   "source": [
    "df.columns"
   ]
  },
  {
   "cell_type": "code",
   "execution_count": 221,
   "id": "a8b91beca0226ffc",
   "metadata": {
    "collapsed": false,
    "ExecuteTime": {
     "end_time": "2024-04-04T20:37:29.466219Z",
     "start_time": "2024-04-04T20:37:29.295944Z"
    }
   },
   "outputs": [],
   "source": [
    "df.fillna(0, inplace=True)"
   ]
  },
  {
   "cell_type": "code",
   "execution_count": 222,
   "id": "697d1cc4969d3925",
   "metadata": {
    "collapsed": false,
    "ExecuteTime": {
     "end_time": "2024-04-04T20:37:29.534173Z",
     "start_time": "2024-04-04T20:37:29.468824Z"
    }
   },
   "outputs": [
    {
     "data": {
      "text/plain": "                          augments_1                       augments_2  \\\n0     TFT11_Augment_StoryweaverCrest  TFT9_Augment_StationarySupport3   \n1            TFT11_Augment_Trickshot    TFT11_Augment_TrashToTreasure   \n2              TFT9_Augment_Idealism         TFT6_Augment_GachaAddict   \n3          TFT9_Augment_YouHaveMyBow         TFT11_Augment_Accomplice   \n4         TFT9_Augment_Sleightofhand  TFT9_Augment_StationarySupport3   \n...                              ...                              ...   \n9587       TFT9_Augment_OneTwosThree    TFT11_Augment_RainingGoldPlus   \n9588       TFT11_Augment_FineVintage   TFT6_Augment_PortableForgePlus   \n9589     TFT11_Augment_GoldenRemover        TFT9_Augment_YouHaveMyBow   \n9590            TFT9_Augment_RedBuff        TFT9_Augment_CombatCaster   \n9591        TFT9_Augment_SilverSpoon       TFT11_Augment_DuelistCrest   \n\n                                 augments_3  gold_left  last_round  level  \\\n0                   TFT6_Augment_OneTwoFive         50          26      8   \n1     TFT9_Augment_Commander_RollingForDays         18          32      9   \n2                      TFT9_Augment_RedBuff          2          29      8   \n3                   TFT9_Augment_Harmacist1         28          26      7   \n4              TFT9_Augment_CyberneticBulk1         26          36     10   \n...                                     ...        ...         ...    ...   \n9587              TFT9_Augment_SupportCache          0          32      9   \n9588            TFT11_Augment_HeavenlyCrest          2          39     10   \n9589                TFT9_Augment_BigGrabBag          0          35      8   \n9590              TFT11_Augment_ReaperCrest          4          39      9   \n9591             TFT10_Augment_HeavyHitters          0          28      8   \n\n      placement  players_eliminated  \\\n0             7                   0   \n1             4                   1   \n2             6                   0   \n3             8                   0   \n4             1                   3   \n...         ...                 ...   \n9587          5                   0   \n9588          1                   4   \n9589          3                   1   \n9590          2                   2   \n9591          7                   0   \n\n                                                  puuid  time_eliminated  ...  \\\n0     V4CYQ37ANOdyBmU8dxoT4HsPWHkOSY2oaijwrr6Ijj7Aoe...      1497.846924  ...   \n1     4RHYO23SWrm7h35kCmesJOqErQ8Gh0uoUuUYKvqrJIxoXe...      1797.070679  ...   \n2     orvNdZ6YNzS5oHAvPlKFGzp0j5-z-xQg4pT0uFA4bb7eWc...      1641.772217  ...   \n3     RgqCZQcvEAIq0VhCVwyrek4aDuait82v8P9c6mHDjvQ5pE...      1491.497314  ...   \n4     uQg8ITKGu-ywgNI3pzWjqTLFFGyRHE0aHwtKAsixZTkACn...      2030.181641  ...   \n...                                                 ...              ...  ...   \n9587  eXizI0Oiu_tJFE4-cWEGMWG86fSdeJVuwG76Xbtz3ic1dT...      1890.752441  ...   \n9588  uFizAin8L6uqX2bO1w_HYnfR-Er1SH5wlhGkRpRJUB9ifM...      2242.950195  ...   \n9589  bceywPyd_biQOUqBQDxJtzChx4hcghRTArzyeGABLriOgt...      2039.903442  ...   \n9590  3yGn6ww9Fd-3xfYgNyVnZNb1Uz800eziYg8DlzKDoFN4zj...      2241.649170  ...   \n9591  2E3PdHqZNxYgxvGZDyxnlzzddoLJeuMS4hBZ-xT6HviRKJ...      1648.456787  ...   \n\n      units_9_character_id               units_9_item_1  \\\n0              TFT11_Kayle        TFT11_Storyweaver5_AS   \n1              TFT11_Xayah                            0   \n2                        0                            0   \n3                        0                            0   \n4               TFT11_Udyr             TFT_Item_RedBuff   \n...                    ...                          ...   \n9587          TFT11_WuKong  TFT_Item_UnstableConcoction   \n9588           TFT11_Rakan          TFT_Item_IonicSpark   \n9589                     0                            0   \n9590          TFT11_WuKong        TFT_Item_ThiefsGloves   \n9591                     0                            0   \n\n                    units_9_item_2                 units_9_item_3  \\\n0       TFT11_Storyweaver3_Support                              0   \n1                                0                              0   \n2                                0                              0   \n3                                0                              0   \n4                                0                              0   \n...                            ...                            ...   \n9587        TFT_Item_TitansResolve       TFT_Item_HextechGunblade   \n9588  TFT5_Item_ZzRotPortalRadiant  TFT11_Item_HeavenlyEmblemItem   \n9589                             0                              0   \n9590          TFT_Item_DragonsClaw       TFT_Item_HextechGunblade   \n9591                             0                              0   \n\n      units_9_tier  units_10_character_id      units_10_item_1  \\\n0              2.0                      0                    0   \n1              2.0             TFT11_Bard                    0   \n2              0.0                      0                    0   \n3              0.0                      0                    0   \n4              2.0           TFT11_WuKong                    0   \n...            ...                    ...                  ...   \n9587           2.0                      0                    0   \n9588           2.0           TFT11_WuKong  TFT_Item_Redemption   \n9589           0.0                      0                    0   \n9590           1.0                      0                    0   \n9591           0.0                      0                    0   \n\n                units_10_item_2         units_10_item_3  units_10_tier  \n0                             0                       0            0.0  \n1                             0                       0            2.0  \n2                             0                       0            0.0  \n3                             0                       0            0.0  \n4                             0                       0            2.0  \n...                         ...                     ...            ...  \n9587                          0                       0            0.0  \n9588  TFT_Item_AegisOfTheLegion  TFT_Item_Bloodthirster            1.0  \n9589                          0                       0            0.0  \n9590                          0                       0            0.0  \n9591                          0                       0            0.0  \n\n[9592 rows x 141 columns]",
      "text/html": "<div>\n<style scoped>\n    .dataframe tbody tr th:only-of-type {\n        vertical-align: middle;\n    }\n\n    .dataframe tbody tr th {\n        vertical-align: top;\n    }\n\n    .dataframe thead th {\n        text-align: right;\n    }\n</style>\n<table border=\"1\" class=\"dataframe\">\n  <thead>\n    <tr style=\"text-align: right;\">\n      <th></th>\n      <th>augments_1</th>\n      <th>augments_2</th>\n      <th>augments_3</th>\n      <th>gold_left</th>\n      <th>last_round</th>\n      <th>level</th>\n      <th>placement</th>\n      <th>players_eliminated</th>\n      <th>puuid</th>\n      <th>time_eliminated</th>\n      <th>...</th>\n      <th>units_9_character_id</th>\n      <th>units_9_item_1</th>\n      <th>units_9_item_2</th>\n      <th>units_9_item_3</th>\n      <th>units_9_tier</th>\n      <th>units_10_character_id</th>\n      <th>units_10_item_1</th>\n      <th>units_10_item_2</th>\n      <th>units_10_item_3</th>\n      <th>units_10_tier</th>\n    </tr>\n  </thead>\n  <tbody>\n    <tr>\n      <th>0</th>\n      <td>TFT11_Augment_StoryweaverCrest</td>\n      <td>TFT9_Augment_StationarySupport3</td>\n      <td>TFT6_Augment_OneTwoFive</td>\n      <td>50</td>\n      <td>26</td>\n      <td>8</td>\n      <td>7</td>\n      <td>0</td>\n      <td>V4CYQ37ANOdyBmU8dxoT4HsPWHkOSY2oaijwrr6Ijj7Aoe...</td>\n      <td>1497.846924</td>\n      <td>...</td>\n      <td>TFT11_Kayle</td>\n      <td>TFT11_Storyweaver5_AS</td>\n      <td>TFT11_Storyweaver3_Support</td>\n      <td>0</td>\n      <td>2.0</td>\n      <td>0</td>\n      <td>0</td>\n      <td>0</td>\n      <td>0</td>\n      <td>0.0</td>\n    </tr>\n    <tr>\n      <th>1</th>\n      <td>TFT11_Augment_Trickshot</td>\n      <td>TFT11_Augment_TrashToTreasure</td>\n      <td>TFT9_Augment_Commander_RollingForDays</td>\n      <td>18</td>\n      <td>32</td>\n      <td>9</td>\n      <td>4</td>\n      <td>1</td>\n      <td>4RHYO23SWrm7h35kCmesJOqErQ8Gh0uoUuUYKvqrJIxoXe...</td>\n      <td>1797.070679</td>\n      <td>...</td>\n      <td>TFT11_Xayah</td>\n      <td>0</td>\n      <td>0</td>\n      <td>0</td>\n      <td>2.0</td>\n      <td>TFT11_Bard</td>\n      <td>0</td>\n      <td>0</td>\n      <td>0</td>\n      <td>2.0</td>\n    </tr>\n    <tr>\n      <th>2</th>\n      <td>TFT9_Augment_Idealism</td>\n      <td>TFT6_Augment_GachaAddict</td>\n      <td>TFT9_Augment_RedBuff</td>\n      <td>2</td>\n      <td>29</td>\n      <td>8</td>\n      <td>6</td>\n      <td>0</td>\n      <td>orvNdZ6YNzS5oHAvPlKFGzp0j5-z-xQg4pT0uFA4bb7eWc...</td>\n      <td>1641.772217</td>\n      <td>...</td>\n      <td>0</td>\n      <td>0</td>\n      <td>0</td>\n      <td>0</td>\n      <td>0.0</td>\n      <td>0</td>\n      <td>0</td>\n      <td>0</td>\n      <td>0</td>\n      <td>0.0</td>\n    </tr>\n    <tr>\n      <th>3</th>\n      <td>TFT9_Augment_YouHaveMyBow</td>\n      <td>TFT11_Augment_Accomplice</td>\n      <td>TFT9_Augment_Harmacist1</td>\n      <td>28</td>\n      <td>26</td>\n      <td>7</td>\n      <td>8</td>\n      <td>0</td>\n      <td>RgqCZQcvEAIq0VhCVwyrek4aDuait82v8P9c6mHDjvQ5pE...</td>\n      <td>1491.497314</td>\n      <td>...</td>\n      <td>0</td>\n      <td>0</td>\n      <td>0</td>\n      <td>0</td>\n      <td>0.0</td>\n      <td>0</td>\n      <td>0</td>\n      <td>0</td>\n      <td>0</td>\n      <td>0.0</td>\n    </tr>\n    <tr>\n      <th>4</th>\n      <td>TFT9_Augment_Sleightofhand</td>\n      <td>TFT9_Augment_StationarySupport3</td>\n      <td>TFT9_Augment_CyberneticBulk1</td>\n      <td>26</td>\n      <td>36</td>\n      <td>10</td>\n      <td>1</td>\n      <td>3</td>\n      <td>uQg8ITKGu-ywgNI3pzWjqTLFFGyRHE0aHwtKAsixZTkACn...</td>\n      <td>2030.181641</td>\n      <td>...</td>\n      <td>TFT11_Udyr</td>\n      <td>TFT_Item_RedBuff</td>\n      <td>0</td>\n      <td>0</td>\n      <td>2.0</td>\n      <td>TFT11_WuKong</td>\n      <td>0</td>\n      <td>0</td>\n      <td>0</td>\n      <td>2.0</td>\n    </tr>\n    <tr>\n      <th>...</th>\n      <td>...</td>\n      <td>...</td>\n      <td>...</td>\n      <td>...</td>\n      <td>...</td>\n      <td>...</td>\n      <td>...</td>\n      <td>...</td>\n      <td>...</td>\n      <td>...</td>\n      <td>...</td>\n      <td>...</td>\n      <td>...</td>\n      <td>...</td>\n      <td>...</td>\n      <td>...</td>\n      <td>...</td>\n      <td>...</td>\n      <td>...</td>\n      <td>...</td>\n      <td>...</td>\n    </tr>\n    <tr>\n      <th>9587</th>\n      <td>TFT9_Augment_OneTwosThree</td>\n      <td>TFT11_Augment_RainingGoldPlus</td>\n      <td>TFT9_Augment_SupportCache</td>\n      <td>0</td>\n      <td>32</td>\n      <td>9</td>\n      <td>5</td>\n      <td>0</td>\n      <td>eXizI0Oiu_tJFE4-cWEGMWG86fSdeJVuwG76Xbtz3ic1dT...</td>\n      <td>1890.752441</td>\n      <td>...</td>\n      <td>TFT11_WuKong</td>\n      <td>TFT_Item_UnstableConcoction</td>\n      <td>TFT_Item_TitansResolve</td>\n      <td>TFT_Item_HextechGunblade</td>\n      <td>2.0</td>\n      <td>0</td>\n      <td>0</td>\n      <td>0</td>\n      <td>0</td>\n      <td>0.0</td>\n    </tr>\n    <tr>\n      <th>9588</th>\n      <td>TFT11_Augment_FineVintage</td>\n      <td>TFT6_Augment_PortableForgePlus</td>\n      <td>TFT11_Augment_HeavenlyCrest</td>\n      <td>2</td>\n      <td>39</td>\n      <td>10</td>\n      <td>1</td>\n      <td>4</td>\n      <td>uFizAin8L6uqX2bO1w_HYnfR-Er1SH5wlhGkRpRJUB9ifM...</td>\n      <td>2242.950195</td>\n      <td>...</td>\n      <td>TFT11_Rakan</td>\n      <td>TFT_Item_IonicSpark</td>\n      <td>TFT5_Item_ZzRotPortalRadiant</td>\n      <td>TFT11_Item_HeavenlyEmblemItem</td>\n      <td>2.0</td>\n      <td>TFT11_WuKong</td>\n      <td>TFT_Item_Redemption</td>\n      <td>TFT_Item_AegisOfTheLegion</td>\n      <td>TFT_Item_Bloodthirster</td>\n      <td>1.0</td>\n    </tr>\n    <tr>\n      <th>9589</th>\n      <td>TFT11_Augment_GoldenRemover</td>\n      <td>TFT9_Augment_YouHaveMyBow</td>\n      <td>TFT9_Augment_BigGrabBag</td>\n      <td>0</td>\n      <td>35</td>\n      <td>8</td>\n      <td>3</td>\n      <td>1</td>\n      <td>bceywPyd_biQOUqBQDxJtzChx4hcghRTArzyeGABLriOgt...</td>\n      <td>2039.903442</td>\n      <td>...</td>\n      <td>0</td>\n      <td>0</td>\n      <td>0</td>\n      <td>0</td>\n      <td>0.0</td>\n      <td>0</td>\n      <td>0</td>\n      <td>0</td>\n      <td>0</td>\n      <td>0.0</td>\n    </tr>\n    <tr>\n      <th>9590</th>\n      <td>TFT9_Augment_RedBuff</td>\n      <td>TFT9_Augment_CombatCaster</td>\n      <td>TFT11_Augment_ReaperCrest</td>\n      <td>4</td>\n      <td>39</td>\n      <td>9</td>\n      <td>2</td>\n      <td>2</td>\n      <td>3yGn6ww9Fd-3xfYgNyVnZNb1Uz800eziYg8DlzKDoFN4zj...</td>\n      <td>2241.649170</td>\n      <td>...</td>\n      <td>TFT11_WuKong</td>\n      <td>TFT_Item_ThiefsGloves</td>\n      <td>TFT_Item_DragonsClaw</td>\n      <td>TFT_Item_HextechGunblade</td>\n      <td>1.0</td>\n      <td>0</td>\n      <td>0</td>\n      <td>0</td>\n      <td>0</td>\n      <td>0.0</td>\n    </tr>\n    <tr>\n      <th>9591</th>\n      <td>TFT9_Augment_SilverSpoon</td>\n      <td>TFT11_Augment_DuelistCrest</td>\n      <td>TFT10_Augment_HeavyHitters</td>\n      <td>0</td>\n      <td>28</td>\n      <td>8</td>\n      <td>7</td>\n      <td>0</td>\n      <td>2E3PdHqZNxYgxvGZDyxnlzzddoLJeuMS4hBZ-xT6HviRKJ...</td>\n      <td>1648.456787</td>\n      <td>...</td>\n      <td>0</td>\n      <td>0</td>\n      <td>0</td>\n      <td>0</td>\n      <td>0.0</td>\n      <td>0</td>\n      <td>0</td>\n      <td>0</td>\n      <td>0</td>\n      <td>0.0</td>\n    </tr>\n  </tbody>\n</table>\n<p>9592 rows × 141 columns</p>\n</div>"
     },
     "execution_count": 222,
     "metadata": {},
     "output_type": "execute_result"
    }
   ],
   "source": [
    "df"
   ]
  },
  {
   "cell_type": "markdown",
   "id": "c5885a412a7f6725",
   "metadata": {
    "collapsed": false
   },
   "source": []
  },
  {
   "cell_type": "code",
   "outputs": [],
   "source": [
    "df.to_csv('processed_data.csv', index=False, header=True)"
   ],
   "metadata": {
    "collapsed": false,
    "ExecuteTime": {
     "end_time": "2024-04-04T20:37:59.349774Z",
     "start_time": "2024-04-04T20:37:58.646821Z"
    }
   },
   "id": "1a3f53c53d0721c3",
   "execution_count": 224
  }
 ],
 "metadata": {
  "kernelspec": {
   "display_name": "Python 3",
   "language": "python",
   "name": "python3"
  },
  "language_info": {
   "codemirror_mode": {
    "name": "ipython",
    "version": 3
   },
   "file_extension": ".py",
   "mimetype": "text/x-python",
   "name": "python",
   "nbconvert_exporter": "python",
   "pygments_lexer": "ipython3",
   "version": "3.11.4"
  }
 },
 "nbformat": 4,
 "nbformat_minor": 5
}
