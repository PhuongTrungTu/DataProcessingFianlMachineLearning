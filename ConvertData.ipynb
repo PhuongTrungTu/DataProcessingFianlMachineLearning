{
 "cells": [
  {
   "cell_type": "code",
   "execution_count": 28,
   "id": "initial_id",
   "metadata": {
    "collapsed": true,
    "ExecuteTime": {
     "end_time": "2024-04-10T14:18:20.753906Z",
     "start_time": "2024-04-10T14:18:20.747189Z"
    }
   },
   "outputs": [],
   "source": [
    "import pandas as pd\n",
    "from sklearn.model_selection import train_test_split\n",
    "from sklearn.naive_bayes import GaussianNB\n",
    "from sklearn.metrics import accuracy_score"
   ]
  },
  {
   "cell_type": "code",
   "execution_count": 2,
   "id": "fc3ad6bd255a9960",
   "metadata": {
    "collapsed": false,
    "ExecuteTime": {
     "end_time": "2024-04-10T07:48:23.215995Z",
     "start_time": "2024-04-10T07:48:23.024963Z"
    }
   },
   "outputs": [],
   "source": [
    "data = pd.read_csv('processed_data.csv')"
   ]
  },
  {
   "cell_type": "code",
   "execution_count": 3,
   "id": "a10ff8cbb0ac45e0",
   "metadata": {
    "collapsed": false,
    "ExecuteTime": {
     "end_time": "2024-04-10T07:48:23.266987Z",
     "start_time": "2024-04-10T07:48:23.217752Z"
    }
   },
   "outputs": [
    {
     "data": {
      "text/plain": "                          augments_1                       augments_2  \\\n0     TFT11_Augment_StoryweaverCrest  TFT9_Augment_StationarySupport3   \n1            TFT11_Augment_Trickshot    TFT11_Augment_TrashToTreasure   \n2              TFT9_Augment_Idealism         TFT6_Augment_GachaAddict   \n3          TFT9_Augment_YouHaveMyBow         TFT11_Augment_Accomplice   \n4         TFT9_Augment_Sleightofhand  TFT9_Augment_StationarySupport3   \n...                              ...                              ...   \n9587       TFT9_Augment_OneTwosThree    TFT11_Augment_RainingGoldPlus   \n9588       TFT11_Augment_FineVintage   TFT6_Augment_PortableForgePlus   \n9589     TFT11_Augment_GoldenRemover        TFT9_Augment_YouHaveMyBow   \n9590            TFT9_Augment_RedBuff        TFT9_Augment_CombatCaster   \n9591        TFT9_Augment_SilverSpoon       TFT11_Augment_DuelistCrest   \n\n                                 augments_3  gold_left  last_round  level  \\\n0                   TFT6_Augment_OneTwoFive         50          26      8   \n1     TFT9_Augment_Commander_RollingForDays         18          32      9   \n2                      TFT9_Augment_RedBuff          2          29      8   \n3                   TFT9_Augment_Harmacist1         28          26      7   \n4              TFT9_Augment_CyberneticBulk1         26          36     10   \n...                                     ...        ...         ...    ...   \n9587              TFT9_Augment_SupportCache          0          32      9   \n9588            TFT11_Augment_HeavenlyCrest          2          39     10   \n9589                TFT9_Augment_BigGrabBag          0          35      8   \n9590              TFT11_Augment_ReaperCrest          4          39      9   \n9591             TFT10_Augment_HeavyHitters          0          28      8   \n\n      placement  players_eliminated  \\\n0             7                   0   \n1             4                   1   \n2             6                   0   \n3             8                   0   \n4             1                   3   \n...         ...                 ...   \n9587          5                   0   \n9588          1                   4   \n9589          3                   1   \n9590          2                   2   \n9591          7                   0   \n\n                                                  puuid  time_eliminated  ...  \\\n0     V4CYQ37ANOdyBmU8dxoT4HsPWHkOSY2oaijwrr6Ijj7Aoe...      1497.846924  ...   \n1     4RHYO23SWrm7h35kCmesJOqErQ8Gh0uoUuUYKvqrJIxoXe...      1797.070679  ...   \n2     orvNdZ6YNzS5oHAvPlKFGzp0j5-z-xQg4pT0uFA4bb7eWc...      1641.772217  ...   \n3     RgqCZQcvEAIq0VhCVwyrek4aDuait82v8P9c6mHDjvQ5pE...      1491.497314  ...   \n4     uQg8ITKGu-ywgNI3pzWjqTLFFGyRHE0aHwtKAsixZTkACn...      2030.181641  ...   \n...                                                 ...              ...  ...   \n9587  eXizI0Oiu_tJFE4-cWEGMWG86fSdeJVuwG76Xbtz3ic1dT...      1890.752441  ...   \n9588  uFizAin8L6uqX2bO1w_HYnfR-Er1SH5wlhGkRpRJUB9ifM...      2242.950195  ...   \n9589  bceywPyd_biQOUqBQDxJtzChx4hcghRTArzyeGABLriOgt...      2039.903442  ...   \n9590  3yGn6ww9Fd-3xfYgNyVnZNb1Uz800eziYg8DlzKDoFN4zj...      2241.649170  ...   \n9591  2E3PdHqZNxYgxvGZDyxnlzzddoLJeuMS4hBZ-xT6HviRKJ...      1648.456787  ...   \n\n      units_9_character_id               units_9_item_1  \\\n0              TFT11_Kayle        TFT11_Storyweaver5_AS   \n1              TFT11_Xayah                            0   \n2                        0                            0   \n3                        0                            0   \n4               TFT11_Udyr             TFT_Item_RedBuff   \n...                    ...                          ...   \n9587          TFT11_WuKong  TFT_Item_UnstableConcoction   \n9588           TFT11_Rakan          TFT_Item_IonicSpark   \n9589                     0                            0   \n9590          TFT11_WuKong        TFT_Item_ThiefsGloves   \n9591                     0                            0   \n\n                    units_9_item_2                 units_9_item_3  \\\n0       TFT11_Storyweaver3_Support                              0   \n1                                0                              0   \n2                                0                              0   \n3                                0                              0   \n4                                0                              0   \n...                            ...                            ...   \n9587        TFT_Item_TitansResolve       TFT_Item_HextechGunblade   \n9588  TFT5_Item_ZzRotPortalRadiant  TFT11_Item_HeavenlyEmblemItem   \n9589                             0                              0   \n9590          TFT_Item_DragonsClaw       TFT_Item_HextechGunblade   \n9591                             0                              0   \n\n      units_9_tier  units_10_character_id      units_10_item_1  \\\n0              2.0                      0                    0   \n1              2.0             TFT11_Bard                    0   \n2              0.0                      0                    0   \n3              0.0                      0                    0   \n4              2.0           TFT11_WuKong                    0   \n...            ...                    ...                  ...   \n9587           2.0                      0                    0   \n9588           2.0           TFT11_WuKong  TFT_Item_Redemption   \n9589           0.0                      0                    0   \n9590           1.0                      0                    0   \n9591           0.0                      0                    0   \n\n                units_10_item_2         units_10_item_3  units_10_tier  \n0                             0                       0            0.0  \n1                             0                       0            2.0  \n2                             0                       0            0.0  \n3                             0                       0            0.0  \n4                             0                       0            2.0  \n...                         ...                     ...            ...  \n9587                          0                       0            0.0  \n9588  TFT_Item_AegisOfTheLegion  TFT_Item_Bloodthirster            1.0  \n9589                          0                       0            0.0  \n9590                          0                       0            0.0  \n9591                          0                       0            0.0  \n\n[9592 rows x 141 columns]",
      "text/html": "<div>\n<style scoped>\n    .dataframe tbody tr th:only-of-type {\n        vertical-align: middle;\n    }\n\n    .dataframe tbody tr th {\n        vertical-align: top;\n    }\n\n    .dataframe thead th {\n        text-align: right;\n    }\n</style>\n<table border=\"1\" class=\"dataframe\">\n  <thead>\n    <tr style=\"text-align: right;\">\n      <th></th>\n      <th>augments_1</th>\n      <th>augments_2</th>\n      <th>augments_3</th>\n      <th>gold_left</th>\n      <th>last_round</th>\n      <th>level</th>\n      <th>placement</th>\n      <th>players_eliminated</th>\n      <th>puuid</th>\n      <th>time_eliminated</th>\n      <th>...</th>\n      <th>units_9_character_id</th>\n      <th>units_9_item_1</th>\n      <th>units_9_item_2</th>\n      <th>units_9_item_3</th>\n      <th>units_9_tier</th>\n      <th>units_10_character_id</th>\n      <th>units_10_item_1</th>\n      <th>units_10_item_2</th>\n      <th>units_10_item_3</th>\n      <th>units_10_tier</th>\n    </tr>\n  </thead>\n  <tbody>\n    <tr>\n      <th>0</th>\n      <td>TFT11_Augment_StoryweaverCrest</td>\n      <td>TFT9_Augment_StationarySupport3</td>\n      <td>TFT6_Augment_OneTwoFive</td>\n      <td>50</td>\n      <td>26</td>\n      <td>8</td>\n      <td>7</td>\n      <td>0</td>\n      <td>V4CYQ37ANOdyBmU8dxoT4HsPWHkOSY2oaijwrr6Ijj7Aoe...</td>\n      <td>1497.846924</td>\n      <td>...</td>\n      <td>TFT11_Kayle</td>\n      <td>TFT11_Storyweaver5_AS</td>\n      <td>TFT11_Storyweaver3_Support</td>\n      <td>0</td>\n      <td>2.0</td>\n      <td>0</td>\n      <td>0</td>\n      <td>0</td>\n      <td>0</td>\n      <td>0.0</td>\n    </tr>\n    <tr>\n      <th>1</th>\n      <td>TFT11_Augment_Trickshot</td>\n      <td>TFT11_Augment_TrashToTreasure</td>\n      <td>TFT9_Augment_Commander_RollingForDays</td>\n      <td>18</td>\n      <td>32</td>\n      <td>9</td>\n      <td>4</td>\n      <td>1</td>\n      <td>4RHYO23SWrm7h35kCmesJOqErQ8Gh0uoUuUYKvqrJIxoXe...</td>\n      <td>1797.070679</td>\n      <td>...</td>\n      <td>TFT11_Xayah</td>\n      <td>0</td>\n      <td>0</td>\n      <td>0</td>\n      <td>2.0</td>\n      <td>TFT11_Bard</td>\n      <td>0</td>\n      <td>0</td>\n      <td>0</td>\n      <td>2.0</td>\n    </tr>\n    <tr>\n      <th>2</th>\n      <td>TFT9_Augment_Idealism</td>\n      <td>TFT6_Augment_GachaAddict</td>\n      <td>TFT9_Augment_RedBuff</td>\n      <td>2</td>\n      <td>29</td>\n      <td>8</td>\n      <td>6</td>\n      <td>0</td>\n      <td>orvNdZ6YNzS5oHAvPlKFGzp0j5-z-xQg4pT0uFA4bb7eWc...</td>\n      <td>1641.772217</td>\n      <td>...</td>\n      <td>0</td>\n      <td>0</td>\n      <td>0</td>\n      <td>0</td>\n      <td>0.0</td>\n      <td>0</td>\n      <td>0</td>\n      <td>0</td>\n      <td>0</td>\n      <td>0.0</td>\n    </tr>\n    <tr>\n      <th>3</th>\n      <td>TFT9_Augment_YouHaveMyBow</td>\n      <td>TFT11_Augment_Accomplice</td>\n      <td>TFT9_Augment_Harmacist1</td>\n      <td>28</td>\n      <td>26</td>\n      <td>7</td>\n      <td>8</td>\n      <td>0</td>\n      <td>RgqCZQcvEAIq0VhCVwyrek4aDuait82v8P9c6mHDjvQ5pE...</td>\n      <td>1491.497314</td>\n      <td>...</td>\n      <td>0</td>\n      <td>0</td>\n      <td>0</td>\n      <td>0</td>\n      <td>0.0</td>\n      <td>0</td>\n      <td>0</td>\n      <td>0</td>\n      <td>0</td>\n      <td>0.0</td>\n    </tr>\n    <tr>\n      <th>4</th>\n      <td>TFT9_Augment_Sleightofhand</td>\n      <td>TFT9_Augment_StationarySupport3</td>\n      <td>TFT9_Augment_CyberneticBulk1</td>\n      <td>26</td>\n      <td>36</td>\n      <td>10</td>\n      <td>1</td>\n      <td>3</td>\n      <td>uQg8ITKGu-ywgNI3pzWjqTLFFGyRHE0aHwtKAsixZTkACn...</td>\n      <td>2030.181641</td>\n      <td>...</td>\n      <td>TFT11_Udyr</td>\n      <td>TFT_Item_RedBuff</td>\n      <td>0</td>\n      <td>0</td>\n      <td>2.0</td>\n      <td>TFT11_WuKong</td>\n      <td>0</td>\n      <td>0</td>\n      <td>0</td>\n      <td>2.0</td>\n    </tr>\n    <tr>\n      <th>...</th>\n      <td>...</td>\n      <td>...</td>\n      <td>...</td>\n      <td>...</td>\n      <td>...</td>\n      <td>...</td>\n      <td>...</td>\n      <td>...</td>\n      <td>...</td>\n      <td>...</td>\n      <td>...</td>\n      <td>...</td>\n      <td>...</td>\n      <td>...</td>\n      <td>...</td>\n      <td>...</td>\n      <td>...</td>\n      <td>...</td>\n      <td>...</td>\n      <td>...</td>\n      <td>...</td>\n    </tr>\n    <tr>\n      <th>9587</th>\n      <td>TFT9_Augment_OneTwosThree</td>\n      <td>TFT11_Augment_RainingGoldPlus</td>\n      <td>TFT9_Augment_SupportCache</td>\n      <td>0</td>\n      <td>32</td>\n      <td>9</td>\n      <td>5</td>\n      <td>0</td>\n      <td>eXizI0Oiu_tJFE4-cWEGMWG86fSdeJVuwG76Xbtz3ic1dT...</td>\n      <td>1890.752441</td>\n      <td>...</td>\n      <td>TFT11_WuKong</td>\n      <td>TFT_Item_UnstableConcoction</td>\n      <td>TFT_Item_TitansResolve</td>\n      <td>TFT_Item_HextechGunblade</td>\n      <td>2.0</td>\n      <td>0</td>\n      <td>0</td>\n      <td>0</td>\n      <td>0</td>\n      <td>0.0</td>\n    </tr>\n    <tr>\n      <th>9588</th>\n      <td>TFT11_Augment_FineVintage</td>\n      <td>TFT6_Augment_PortableForgePlus</td>\n      <td>TFT11_Augment_HeavenlyCrest</td>\n      <td>2</td>\n      <td>39</td>\n      <td>10</td>\n      <td>1</td>\n      <td>4</td>\n      <td>uFizAin8L6uqX2bO1w_HYnfR-Er1SH5wlhGkRpRJUB9ifM...</td>\n      <td>2242.950195</td>\n      <td>...</td>\n      <td>TFT11_Rakan</td>\n      <td>TFT_Item_IonicSpark</td>\n      <td>TFT5_Item_ZzRotPortalRadiant</td>\n      <td>TFT11_Item_HeavenlyEmblemItem</td>\n      <td>2.0</td>\n      <td>TFT11_WuKong</td>\n      <td>TFT_Item_Redemption</td>\n      <td>TFT_Item_AegisOfTheLegion</td>\n      <td>TFT_Item_Bloodthirster</td>\n      <td>1.0</td>\n    </tr>\n    <tr>\n      <th>9589</th>\n      <td>TFT11_Augment_GoldenRemover</td>\n      <td>TFT9_Augment_YouHaveMyBow</td>\n      <td>TFT9_Augment_BigGrabBag</td>\n      <td>0</td>\n      <td>35</td>\n      <td>8</td>\n      <td>3</td>\n      <td>1</td>\n      <td>bceywPyd_biQOUqBQDxJtzChx4hcghRTArzyeGABLriOgt...</td>\n      <td>2039.903442</td>\n      <td>...</td>\n      <td>0</td>\n      <td>0</td>\n      <td>0</td>\n      <td>0</td>\n      <td>0.0</td>\n      <td>0</td>\n      <td>0</td>\n      <td>0</td>\n      <td>0</td>\n      <td>0.0</td>\n    </tr>\n    <tr>\n      <th>9590</th>\n      <td>TFT9_Augment_RedBuff</td>\n      <td>TFT9_Augment_CombatCaster</td>\n      <td>TFT11_Augment_ReaperCrest</td>\n      <td>4</td>\n      <td>39</td>\n      <td>9</td>\n      <td>2</td>\n      <td>2</td>\n      <td>3yGn6ww9Fd-3xfYgNyVnZNb1Uz800eziYg8DlzKDoFN4zj...</td>\n      <td>2241.649170</td>\n      <td>...</td>\n      <td>TFT11_WuKong</td>\n      <td>TFT_Item_ThiefsGloves</td>\n      <td>TFT_Item_DragonsClaw</td>\n      <td>TFT_Item_HextechGunblade</td>\n      <td>1.0</td>\n      <td>0</td>\n      <td>0</td>\n      <td>0</td>\n      <td>0</td>\n      <td>0.0</td>\n    </tr>\n    <tr>\n      <th>9591</th>\n      <td>TFT9_Augment_SilverSpoon</td>\n      <td>TFT11_Augment_DuelistCrest</td>\n      <td>TFT10_Augment_HeavyHitters</td>\n      <td>0</td>\n      <td>28</td>\n      <td>8</td>\n      <td>7</td>\n      <td>0</td>\n      <td>2E3PdHqZNxYgxvGZDyxnlzzddoLJeuMS4hBZ-xT6HviRKJ...</td>\n      <td>1648.456787</td>\n      <td>...</td>\n      <td>0</td>\n      <td>0</td>\n      <td>0</td>\n      <td>0</td>\n      <td>0.0</td>\n      <td>0</td>\n      <td>0</td>\n      <td>0</td>\n      <td>0</td>\n      <td>0.0</td>\n    </tr>\n  </tbody>\n</table>\n<p>9592 rows × 141 columns</p>\n</div>"
     },
     "execution_count": 3,
     "metadata": {},
     "output_type": "execute_result"
    }
   ],
   "source": [
    "data"
   ]
  },
  {
   "cell_type": "code",
   "execution_count": 4,
   "id": "a260e117ac7157c6",
   "metadata": {
    "collapsed": false,
    "ExecuteTime": {
     "end_time": "2024-04-10T07:48:23.273435Z",
     "start_time": "2024-04-10T07:48:23.269136Z"
    }
   },
   "outputs": [],
   "source": [
    "a = list(data.columns.values)"
   ]
  },
  {
   "cell_type": "code",
   "execution_count": 5,
   "id": "bfc94d7f95cafedd",
   "metadata": {
    "collapsed": false,
    "ExecuteTime": {
     "end_time": "2024-04-10T07:48:23.287020Z",
     "start_time": "2024-04-10T07:48:23.275620Z"
    }
   },
   "outputs": [
    {
     "data": {
      "text/plain": "['augments_1',\n 'augments_2',\n 'augments_3',\n 'gold_left',\n 'last_round',\n 'level',\n 'placement',\n 'players_eliminated',\n 'puuid',\n 'time_eliminated',\n 'total_damage_to_players',\n 'traits_1_name',\n 'traits_1_num_units',\n 'traits_1_style',\n 'traits_1_tier_current',\n 'traits_1_tier_total',\n 'traits_2_name',\n 'traits_2_num_units',\n 'traits_2_style',\n 'traits_2_tier_current',\n 'traits_2_tier_total',\n 'traits_3_name',\n 'traits_3_num_units',\n 'traits_3_style',\n 'traits_3_tier_current',\n 'traits_3_tier_total',\n 'traits_4_name',\n 'traits_4_num_units',\n 'traits_4_style',\n 'traits_4_tier_current',\n 'traits_4_tier_total',\n 'traits_5_name',\n 'traits_5_num_units',\n 'traits_5_style',\n 'traits_5_tier_current',\n 'traits_5_tier_total',\n 'traits_6_name',\n 'traits_6_num_units',\n 'traits_6_style',\n 'traits_6_tier_current',\n 'traits_6_tier_total',\n 'traits_7_name',\n 'traits_7_num_units',\n 'traits_7_style',\n 'traits_7_tier_current',\n 'traits_7_tier_total',\n 'traits_8_name',\n 'traits_8_num_units',\n 'traits_8_style',\n 'traits_8_tier_current',\n 'traits_8_tier_total',\n 'traits_9_name',\n 'traits_9_num_units',\n 'traits_9_style',\n 'traits_9_tier_current',\n 'traits_9_tier_total',\n 'traits_10_name',\n 'traits_10_num_units',\n 'traits_10_style',\n 'traits_10_tier_current',\n 'traits_10_tier_total',\n 'traits_11_name',\n 'traits_11_num_units',\n 'traits_11_style',\n 'traits_11_tier_current',\n 'traits_11_tier_total',\n 'traits_12_name',\n 'traits_12_num_units',\n 'traits_12_style',\n 'traits_12_tier_current',\n 'traits_12_tier_total',\n 'traits_13_name',\n 'traits_13_num_units',\n 'traits_13_style',\n 'traits_13_tier_current',\n 'traits_13_tier_total',\n 'traits_14_name',\n 'traits_14_num_units',\n 'traits_14_style',\n 'traits_14_tier_current',\n 'traits_14_tier_total',\n 'traits_15_name',\n 'traits_15_num_units',\n 'traits_15_style',\n 'traits_15_tier_current',\n 'traits_15_tier_total',\n 'traits_16_name',\n 'traits_16_num_units',\n 'traits_16_style',\n 'traits_16_tier_current',\n 'traits_16_tier_total',\n 'units_1_character_id',\n 'units_1_item_1',\n 'units_1_item_2',\n 'units_1_item_3',\n 'units_1_tier',\n 'units_2_character_id',\n 'units_2_item_1',\n 'units_2_item_2',\n 'units_2_item_3',\n 'units_2_tier',\n 'units_3_character_id',\n 'units_3_item_1',\n 'units_3_item_2',\n 'units_3_item_3',\n 'units_3_tier',\n 'units_4_character_id',\n 'units_4_item_1',\n 'units_4_item_2',\n 'units_4_item_3',\n 'units_4_tier',\n 'units_5_character_id',\n 'units_5_item_1',\n 'units_5_item_2',\n 'units_5_item_3',\n 'units_5_tier',\n 'units_6_character_id',\n 'units_6_item_1',\n 'units_6_item_2',\n 'units_6_item_3',\n 'units_6_tier',\n 'units_7_character_id',\n 'units_7_item_1',\n 'units_7_item_2',\n 'units_7_item_3',\n 'units_7_tier',\n 'units_8_character_id',\n 'units_8_item_1',\n 'units_8_item_2',\n 'units_8_item_3',\n 'units_8_tier',\n 'units_9_character_id',\n 'units_9_item_1',\n 'units_9_item_2',\n 'units_9_item_3',\n 'units_9_tier',\n 'units_10_character_id',\n 'units_10_item_1',\n 'units_10_item_2',\n 'units_10_item_3',\n 'units_10_tier']"
     },
     "execution_count": 5,
     "metadata": {},
     "output_type": "execute_result"
    }
   ],
   "source": [
    "a"
   ]
  },
  {
   "cell_type": "code",
   "execution_count": 6,
   "id": "3537dcadb7ee626d",
   "metadata": {
    "collapsed": false,
    "ExecuteTime": {
     "end_time": "2024-04-10T07:48:23.297192Z",
     "start_time": "2024-04-10T07:48:23.289100Z"
    }
   },
   "outputs": [],
   "source": [
    "cols = ['puuid',\n",
    "        'augments_1','augments_2','augments_3',\n",
    "        'traits_1_name','traits_2_name', 'traits_3_name','traits_4_name', 'traits_5_name','traits_6_name', 'traits_7_name', 'traits_8_name','traits_9_name', 'traits_10_name','traits_11_name','traits_12_name','traits_13_name','traits_14_name','traits_15_name','traits_16_name',\n",
    "        \n",
    "        'units_1_character_id','units_1_item_1','units_1_item_2','units_1_item_3','units_2_character_id','units_2_item_1','units_2_item_2','units_2_item_3','units_3_character_id','units_3_item_1','units_3_item_2','units_3_item_3','units_4_character_id','units_4_item_1','units_4_item_2','units_4_item_3','units_5_character_id','units_5_item_1','units_5_item_2','units_5_item_3','units_6_character_id','units_6_item_1','units_6_item_2','units_6_item_3','units_7_character_id','units_7_item_1','units_7_item_2','units_7_item_3','units_8_character_id','units_8_item_1','units_8_item_2','units_8_item_3','units_9_character_id','units_9_item_1','units_9_item_2','units_9_item_3','units_10_character_id','units_10_item_1','units_10_item_2','units_10_item_3',\n",
    "        \n",
    "        'units_1_tier','units_2_tier','units_3_tier','units_4_tier','units_5_tier','units_6_tier','units_7_tier','units_8_tier','units_9_tier', 'units_10_tier',\n",
    "        \n",
    "        'traits_1_num_units','traits_1_style','traits_1_tier_current','traits_1_tier_total',\n",
    "        'traits_2_num_units','traits_2_style','traits_2_tier_current','traits_2_tier_total',\n",
    "        'traits_3_num_units','traits_3_style','traits_3_tier_current','traits_3_tier_total',\n",
    "        'traits_4_num_units','traits_4_style','traits_4_tier_current','traits_4_tier_total',\n",
    "        'traits_5_num_units','traits_5_style','traits_5_tier_current','traits_5_tier_total',\n",
    "        'traits_6_num_units','traits_6_style','traits_6_tier_current','traits_6_tier_total',\n",
    "        'traits_7_num_units','traits_7_style','traits_7_tier_current','traits_7_tier_total',\n",
    "        'traits_8_num_units','traits_8_style','traits_8_tier_current','traits_8_tier_total',\n",
    "        'traits_9_num_units','traits_9_style','traits_9_tier_current','traits_9_tier_total',\n",
    "        'traits_10_num_units','traits_10_style','traits_10_tier_current','traits_10_tier_total',\n",
    "        'traits_11_num_units','traits_11_style','traits_11_tier_current','traits_11_tier_total',\n",
    "        'traits_12_num_units','traits_12_style','traits_12_tier_current','traits_12_tier_total',\n",
    "        'traits_13_num_units','traits_13_style','traits_13_tier_current','traits_13_tier_total',\n",
    "        'traits_14_num_units','traits_14_style','traits_14_tier_current','traits_14_tier_total',\n",
    "        'traits_15_num_units','traits_15_style','traits_15_tier_current','traits_15_tier_total',\n",
    "        'traits_16_num_units','traits_16_style','traits_16_tier_current','traits_16_tier_total',\n",
    "        'gold_left','last_round','level','players_eliminated','time_eliminated','total_damage_to_players',\n",
    "        'placement']\n"
   ]
  },
  {
   "cell_type": "code",
   "execution_count": 7,
   "id": "dc1cb5f5241a0241",
   "metadata": {
    "collapsed": false,
    "ExecuteTime": {
     "end_time": "2024-04-10T07:48:23.304945Z",
     "start_time": "2024-04-10T07:48:23.299329Z"
    }
   },
   "outputs": [
    {
     "name": "stdout",
     "output_type": "stream",
     "text": [
      "60\n"
     ]
    }
   ],
   "source": [
    "print(cols.index('units_1_tier'))"
   ]
  },
  {
   "cell_type": "code",
   "execution_count": 13,
   "id": "dc55ad4007039498",
   "metadata": {
    "collapsed": false,
    "ExecuteTime": {
     "end_time": "2024-04-10T07:56:49.499382Z",
     "start_time": "2024-04-10T07:56:49.481898Z"
    }
   },
   "outputs": [],
   "source": [
    "data = data.reindex(columns=cols)"
   ]
  },
  {
   "cell_type": "code",
   "outputs": [],
   "source": [
    "data.to_csv('data02.csv', index=False)"
   ],
   "metadata": {
    "collapsed": false,
    "ExecuteTime": {
     "end_time": "2024-04-10T14:36:03.452699Z",
     "start_time": "2024-04-10T14:36:02.601094Z"
    }
   },
   "id": "10be7afac0b6dbf1",
   "execution_count": 32
  },
  {
   "cell_type": "code",
   "outputs": [],
   "source": [
    "df = data.iloc[:, -81:]"
   ],
   "metadata": {
    "collapsed": false,
    "ExecuteTime": {
     "end_time": "2024-04-10T08:00:40.982766Z",
     "start_time": "2024-04-10T08:00:40.975268Z"
    }
   },
   "id": "71dc42d48f594328",
   "execution_count": 24
  },
  {
   "cell_type": "code",
   "outputs": [
    {
     "data": {
      "text/plain": "      Actual  Predicted\n6402       6          6\n317        7          1\n5050       5          5\n8898       2          2\n2226       1          1\n...      ...        ...\n9315       8          8\n4195       7          8\n8952       3          1\n1913       4          3\n1936       4          4\n\n[2878 rows x 2 columns]",
      "text/html": "<div>\n<style scoped>\n    .dataframe tbody tr th:only-of-type {\n        vertical-align: middle;\n    }\n\n    .dataframe tbody tr th {\n        vertical-align: top;\n    }\n\n    .dataframe thead th {\n        text-align: right;\n    }\n</style>\n<table border=\"1\" class=\"dataframe\">\n  <thead>\n    <tr style=\"text-align: right;\">\n      <th></th>\n      <th>Actual</th>\n      <th>Predicted</th>\n    </tr>\n  </thead>\n  <tbody>\n    <tr>\n      <th>6402</th>\n      <td>6</td>\n      <td>6</td>\n    </tr>\n    <tr>\n      <th>317</th>\n      <td>7</td>\n      <td>1</td>\n    </tr>\n    <tr>\n      <th>5050</th>\n      <td>5</td>\n      <td>5</td>\n    </tr>\n    <tr>\n      <th>8898</th>\n      <td>2</td>\n      <td>2</td>\n    </tr>\n    <tr>\n      <th>2226</th>\n      <td>1</td>\n      <td>1</td>\n    </tr>\n    <tr>\n      <th>...</th>\n      <td>...</td>\n      <td>...</td>\n    </tr>\n    <tr>\n      <th>9315</th>\n      <td>8</td>\n      <td>8</td>\n    </tr>\n    <tr>\n      <th>4195</th>\n      <td>7</td>\n      <td>8</td>\n    </tr>\n    <tr>\n      <th>8952</th>\n      <td>3</td>\n      <td>1</td>\n    </tr>\n    <tr>\n      <th>1913</th>\n      <td>4</td>\n      <td>3</td>\n    </tr>\n    <tr>\n      <th>1936</th>\n      <td>4</td>\n      <td>4</td>\n    </tr>\n  </tbody>\n</table>\n<p>2878 rows × 2 columns</p>\n</div>"
     },
     "execution_count": 29,
     "metadata": {},
     "output_type": "execute_result"
    }
   ],
   "source": [
    "X = df.drop(columns='placement')\n",
    "Y = df['placement']\n",
    "\n",
    "X_train, X_test, y_train, y_test = train_test_split(X, Y, test_size=0.3, random_state=32)\n",
    "model = GaussianNB()\n",
    "\n",
    "model.fit(X_train, y_train)\n",
    "\n",
    "y_predict = model.predict(X_test)\n",
    "\n",
    "res = pd.DataFrame({'Actual': y_test, 'Predicted': y_predict})\n",
    "res"
   ],
   "metadata": {
    "collapsed": false,
    "ExecuteTime": {
     "end_time": "2024-04-10T14:18:28.070791Z",
     "start_time": "2024-04-10T14:18:27.992301Z"
    }
   },
   "id": "39c3e0f625619ccd",
   "execution_count": 29
  },
  {
   "cell_type": "code",
   "outputs": [
    {
     "name": "stdout",
     "output_type": "stream",
     "text": [
      "0.3763029881862405\n"
     ]
    }
   ],
   "source": [
    "accuracy = accuracy_score(y_test, y_predict)\n",
    "print(accuracy)"
   ],
   "metadata": {
    "collapsed": false,
    "ExecuteTime": {
     "end_time": "2024-04-10T14:18:39.862395Z",
     "start_time": "2024-04-10T14:18:39.850663Z"
    }
   },
   "id": "fe0c3a4fad63bb87",
   "execution_count": 30
  }
 ],
 "metadata": {
  "kernelspec": {
   "display_name": "Python 3",
   "language": "python",
   "name": "python3"
  },
  "language_info": {
   "codemirror_mode": {
    "name": "ipython",
    "version": 3
   },
   "file_extension": ".py",
   "mimetype": "text/x-python",
   "name": "python",
   "nbconvert_exporter": "python",
   "pygments_lexer": "ipython3",
   "version": "3.11.4"
  }
 },
 "nbformat": 4,
 "nbformat_minor": 5
}
