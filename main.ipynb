{
 "cells": [
  {
   "cell_type": "code",
   "execution_count": 30,
   "metadata": {},
   "outputs": [],
   "source": [
    "import requests\n",
    "import json"
   ]
  },
  {
   "cell_type": "code",
   "execution_count": 31,
   "metadata": {},
   "outputs": [],
   "source": [
    "key = 'api_key=RGAPI-805700c1-c2be-4d02-9ff2-17d4fe3ca3b9'\n",
    "prefix = 'https://na1.api.riotgames.com/'\n",
    "count = 100\n",
    "match_prefix = 'https://americas.api.riotgames.com/tft/match/v1/matches/'"
   ]
  },
  {
   "cell_type": "code",
   "execution_count": 32,
   "metadata": {},
   "outputs": [],
   "source": [
    "names_url = f'{prefix}tft/league/v1/challenger?queue=RANKED_TFT&{key}'\n",
    "names_url_respone = requests.get(names_url)\n",
    "names = names_url_respone.json()['entries']\n",
    "names = [x['summonerName'] for x in names]"
   ]
  },
  {
   "cell_type": "code",
   "execution_count": 33,
   "metadata": {},
   "outputs": [],
   "source": [
    "matches = set()\n",
    "\n",
    "for i in range(len(names)):\n",
    "    name = names[i]\n",
    "    url_summoner = f'{prefix}tft/summoner/v1/summoners/by-name/{names[i]}?{key}'\n",
    "    reponse_summoner = requests.get(url_summoner)\n",
    "    puuid = reponse_summoner.json()['puuid']\n",
    "    \n",
    "    matches_url = f'{match_prefix}by-puuid/{puuid}/ids?start=0&count={count}&{key}'\n",
    "    response_matches = requests.get(matches_url)\n",
    "    matches_id = response_matches.json()\n",
    "    for match_id in matches_id:\n",
    "        matches.add(match_id)"
   ]
  },
  {
   "cell_type": "code",
   "execution_count": 39,
   "metadata": {},
   "outputs": [
    {
     "name": "stdout",
     "output_type": "stream",
     "text": [
      "1393\n"
     ]
    }
   ],
   "source": [
    "matches = list(matches)"
   ]
  },
  {
   "cell_type": "code",
   "execution_count": 43,
   "metadata": {},
   "outputs": [
    {
     "ename": "KeyboardInterrupt",
     "evalue": "",
     "output_type": "error",
     "traceback": [
      "\u001B[1;31m---------------------------------------------------------------------------\u001B[0m",
      "\u001B[1;31mIndexError\u001B[0m                                Traceback (most recent call last)",
      "\u001B[1;32mc:\\HoangTu\\Programing\\University\\MachineLearning\\MLFinal\\main.ipynb Cell 6\u001B[0m line \u001B[0;36m9\n\u001B[0;32m      <a href='vscode-notebook-cell:/c%3A/HoangTu/Programing/University/MachineLearning/MLFinal/main.ipynb#W5sZmlsZQ%3D%3D?line=7'>8</a>\u001B[0m \u001B[39mfor\u001B[39;00m i \u001B[39min\u001B[39;00m \u001B[39mrange\u001B[39m(\u001B[39mlen\u001B[39m(dir_path), \u001B[39mlen\u001B[39m(matches)):\n\u001B[1;32m----> <a href='vscode-notebook-cell:/c%3A/HoangTu/Programing/University/MachineLearning/MLFinal/main.ipynb#W5sZmlsZQ%3D%3D?line=8'>9</a>\u001B[0m     match_id \u001B[39m=\u001B[39m matches[index]\n\u001B[0;32m     <a href='vscode-notebook-cell:/c%3A/HoangTu/Programing/University/MachineLearning/MLFinal/main.ipynb#W5sZmlsZQ%3D%3D?line=9'>10</a>\u001B[0m     match_url \u001B[39m=\u001B[39m \u001B[39mf\u001B[39m\u001B[39m'\u001B[39m\u001B[39m{\u001B[39;00mmatch_prefix\u001B[39m}\u001B[39;00m\u001B[39m{\u001B[39;00mmatch_id\u001B[39m}\u001B[39;00m\u001B[39m?\u001B[39m\u001B[39m{\u001B[39;00mkey\u001B[39m}\u001B[39;00m\u001B[39m'\u001B[39m\n",
      "\u001B[1;31mIndexError\u001B[0m: list index out of range",
      "\nDuring handling of the above exception, another exception occurred:\n",
      "\u001B[1;31mKeyboardInterrupt\u001B[0m                         Traceback (most recent call last)",
      "\u001B[1;32mc:\\HoangTu\\Programing\\University\\MachineLearning\\MLFinal\\main.ipynb Cell 6\u001B[0m line \u001B[0;36m1\n\u001B[0;32m     <a href='vscode-notebook-cell:/c%3A/HoangTu/Programing/University/MachineLearning/MLFinal/main.ipynb#W5sZmlsZQ%3D%3D?line=15'>16</a>\u001B[0m         index \u001B[39m+\u001B[39m\u001B[39m=\u001B[39m \u001B[39m1\u001B[39m\n\u001B[0;32m     <a href='vscode-notebook-cell:/c%3A/HoangTu/Programing/University/MachineLearning/MLFinal/main.ipynb#W5sZmlsZQ%3D%3D?line=16'>17</a>\u001B[0m \u001B[39mexcept\u001B[39;00m:\n\u001B[1;32m---> <a href='vscode-notebook-cell:/c%3A/HoangTu/Programing/University/MachineLearning/MLFinal/main.ipynb#W5sZmlsZQ%3D%3D?line=17'>18</a>\u001B[0m     dir_path\u001B[39m=\u001B[39m os\u001B[39m.\u001B[39mlistdir(\u001B[39m'\u001B[39m\u001B[39m./data\u001B[39m\u001B[39m'\u001B[39m)\n",
      "\u001B[1;31mKeyboardInterrupt\u001B[0m: "
     ]
    }
   ],
   "source": [
    "import os\n",
    "dir_path= os.listdir('./data')\n",
    "data = []\n",
    "\n",
    "index = 194\n",
    "while len(dir_path) != len(matches):\n",
    "    try:\n",
    "        for i in range(len(dir_path), len(matches)):\n",
    "            match_id = matches[index]\n",
    "            match_url = f'{match_prefix}{match_id}?{key}'\n",
    "            match_response = requests.get(match_url)\n",
    "            match_info = match_response.json()\n",
    "            match_info = match_info['info']\n",
    "            with open(f'./data/match_{match_info[\"gameId\"]}.json', 'w') as f:\n",
    "                json.dump(match_info, f, indent=4)\n",
    "            index += 1\n",
    "    except:\n",
    "        dir_path= os.listdir('./data')\n",
    "        if len(matches) - len(dir_path) < 10:\n",
    "            break\n",
    "    "
   ]
  }
 ],
 "metadata": {
  "kernelspec": {
   "display_name": "Python 3",
   "language": "python",
   "name": "python3"
  },
  "language_info": {
   "codemirror_mode": {
    "name": "ipython",
    "version": 3
   },
   "file_extension": ".py",
   "mimetype": "text/x-python",
   "name": "python",
   "nbconvert_exporter": "python",
   "pygments_lexer": "ipython3",
   "version": "3.11.4"
  }
 },
 "nbformat": 4,
 "nbformat_minor": 2
}
